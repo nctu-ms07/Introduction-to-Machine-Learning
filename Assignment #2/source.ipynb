{
  "nbformat": 4,
  "nbformat_minor": 0,
  "metadata": {
    "kernelspec": {
      "display_name": "Python 3",
      "name": "python3"
    },
    "language_info": {
      "name": "python"
    }
  },
  "cells": [
    {
      "cell_type": "markdown",
      "metadata": {
        "id": "yON7UKBkiXDx"
      },
      "source": [
        "**Data Input**"
      ]
    },
    {
      "cell_type": "code",
      "metadata": {
        "id": "L_LpupfwG821"
      },
      "source": [
        "import csv\n",
        "import numpy as np\n",
        "np.set_printoptions(suppress=True)\n",
        "\n",
        "with open('student-mat.csv', newline='') as csv_file:\n",
        "    data = list(csv.reader(csv_file, delimiter=';'))\n",
        "    # remove the first line in the file\n",
        "    data.pop(0)\n",
        "    data = np.asarray(data)\n",
        "    categorical = data[:, 0:29]"
      ],
      "execution_count": null,
      "outputs": []
    },
    {
      "cell_type": "markdown",
      "metadata": {
        "id": "XvNbFHW1vwCa"
      },
      "source": [
        "**Transform categorical features into one-hot representation**"
      ]
    },
    {
      "cell_type": "code",
      "metadata": {
        "id": "oV4dnUSnNx6c"
      },
      "source": [
        "from sklearn.preprocessing import OneHotEncoder\n",
        "\n",
        "categorical = OneHotEncoder(sparse=False).fit_transform(categorical)"
      ],
      "execution_count": null,
      "outputs": []
    },
    {
      "cell_type": "markdown",
      "metadata": {
        "id": "AfvwLVWkvue0"
      },
      "source": [
        "**Shuffle the data**"
      ]
    },
    {
      "cell_type": "code",
      "metadata": {
        "id": "mMHuChEDUitS"
      },
      "source": [
        "data = np.concatenate((categorical, data[:, 29:33]), axis=1).astype(float)\n",
        "np.random.shuffle(data)"
      ],
      "execution_count": null,
      "outputs": []
    },
    {
      "cell_type": "markdown",
      "metadata": {
        "id": "arz6UiWHvLgY"
      },
      "source": [
        "**Transform label format - Binary classification**"
      ]
    },
    {
      "cell_type": "code",
      "metadata": {
        "id": "LcvYSGtymYci"
      },
      "source": [
        "x = np.copy(data[:, 0:-1])\n",
        "y = np.copy(data[:, -1])\n",
        "np.putmask(y, y<10, 0)\n",
        "np.putmask(y, y!=0, 1)"
      ],
      "execution_count": null,
      "outputs": []
    },
    {
      "cell_type": "markdown",
      "metadata": {
        "id": "xq2NEfwKv9Eg"
      },
      "source": [
        "**Decision Tree**"
      ]
    },
    {
      "cell_type": "markdown",
      "metadata": {
        "id": "v6sKO7iJSsw3"
      },
      "source": [
        "The tree is built by sciki-learn function.<br>\n",
        "The metrics are also calculated by sciki-learn functions."
      ]
    },
    {
      "cell_type": "code",
      "metadata": {
        "id": "zCq98TdZeXGi"
      },
      "source": [
        "from sklearn.tree import DecisionTreeClassifier\n",
        "from sklearn.metrics import confusion_matrix, accuracy_score, recall_score, precision_score\n",
        "\n",
        "model = DecisionTreeClassifier()\n",
        "pca_model = DecisionTreeClassifier()"
      ],
      "execution_count": null,
      "outputs": []
    },
    {
      "cell_type": "code",
      "metadata": {
        "id": "q5XqdvqBbOBZ",
        "colab": {
          "base_uri": "https://localhost:8080/"
        },
        "outputId": "61d24717-036c-41a3-e8a5-968bfd85eec1"
      },
      "source": [
        "from sklearn.model_selection import KFold\n",
        "from sklearn.decomposition import PCA\n",
        "\n",
        "kf = KFold(n_splits=3)\n",
        "\n",
        "test = []\n",
        "pred = []\n",
        "pca_pred = []\n",
        "\n",
        "for train_index, test_index in kf.split(x):\n",
        "  x_train, x_test = x[train_index], x[test_index]\n",
        "  y_train, y_test = y[train_index], y[test_index]\n",
        "  test.extend(y_test)\n",
        "  \n",
        "  model.fit(x_train, y_train)\n",
        "  y_pred = model.predict(x_test)\n",
        "  pred.extend(y_pred)\n",
        "\n",
        "  pca = PCA(n_components=4).fit(x_train)\n",
        "  pca_model.fit(pca.transform(x_train), y_train)\n",
        "  pca_y_pred = pca_model.predict(pca.transform(x_test))\n",
        "  pca_pred.extend(pca_y_pred)\n",
        "\n",
        "print('Decision Tree')\n",
        "print('Confusion matrix')\n",
        "print(confusion_matrix(test, pred)/3)\n",
        "print('Accuracy: ' + str(accuracy_score(test, pred)))\n",
        "print('Sensitivity(Recall): ' + str(recall_score(test, pred)))\n",
        "print('Precision: ' + str(precision_score(test, pred)))\n",
        "print('')\n",
        "print('Decision Tree - PCA')\n",
        "print('Confusion matrix')\n",
        "print(confusion_matrix(test, pca_pred)/3)\n",
        "print('Accuracy: ' + str(accuracy_score(test, pca_pred)))\n",
        "print('Sensitivity(Recall): ' + str(recall_score(test, pca_pred)))\n",
        "print('Precision: ' + str(precision_score(test, pca_pred)))\n"
      ],
      "execution_count": null,
      "outputs": [
        {
          "output_type": "stream",
          "name": "stdout",
          "text": [
            "Decision Tree\n",
            "Confusion matrix\n",
            "[[33.66666667  9.66666667]\n",
            " [ 7.         81.33333333]]\n",
            "Accuracy: 0.8734177215189873\n",
            "Sensitivity(Recall): 0.9207547169811321\n",
            "Precision: 0.8937728937728938\n",
            "\n",
            "Decision Tree - PCA\n",
            "Confusion matrix\n",
            "[[34.33333333  9.        ]\n",
            " [ 8.         80.33333333]]\n",
            "Accuracy: 0.8708860759493671\n",
            "Sensitivity(Recall): 0.909433962264151\n",
            "Precision: 0.8992537313432836\n"
          ]
        }
      ]
    },
    {
      "cell_type": "markdown",
      "metadata": {
        "id": "36Gjc2go2RV7"
      },
      "source": [
        "**Question - Show the prediction and reasoning of one arbitrary sample in the testing set**"
      ]
    },
    {
      "cell_type": "code",
      "metadata": {
        "id": "Qlnd1-iA3y9L",
        "colab": {
          "base_uri": "https://localhost:8080/",
          "height": 1000
        },
        "outputId": "3eccc5a4-ec5e-4f0a-de07-44e42474ece1"
      },
      "source": [
        "import matplotlib.pyplot as plt\n",
        "from sklearn import tree\n",
        "\n",
        "plt.figure(figsize=(20, 20))\n",
        "tree.plot_tree(model, class_names=['0', '1'], impurity=False, node_ids=True, rounded=True)\n",
        "\n",
        "feature = model.tree_.feature\n",
        "threshold = model.tree_.threshold\n",
        "node_indicator = model.decision_path(x_test[0:1])\n",
        "leaf_id = model.apply(x_test[0:1])\n",
        "\n",
        "sample_id = 0\n",
        "# obtain ids of the nodes `sample_id` goes through, i.e., row `sample_id`\n",
        "node_index = node_indicator.indices[\n",
        "    node_indicator.indptr[sample_id] : node_indicator.indptr[sample_id + 1]\n",
        "]\n",
        "\n",
        "# print(\"Rules used to predict sample {id}:\\n\".format(id=sample_id))\n",
        "for node_id in node_index:\n",
        "    # continue to the next node if it is a leaf node\n",
        "    if leaf_id[sample_id] == node_id:\n",
        "        continue\n",
        "\n",
        "    # check if value of the split feature for sample 0 is below threshold\n",
        "    if x_test[sample_id, feature[node_id]] <= threshold[node_id]:\n",
        "        threshold_sign = \"<=\"\n",
        "    else:\n",
        "        threshold_sign = \">\"\n",
        "\n",
        "    print(\n",
        "        \"decision node {node} : (x_test[{feature}] = {value}) \"\n",
        "        \"{inequality} {threshold})\".format(\n",
        "            node=node_id,\n",
        "            sample=sample_id,\n",
        "            feature=feature[node_id],\n",
        "            value=x_test[sample_id, feature[node_id]],\n",
        "            inequality=threshold_sign,\n",
        "            threshold=threshold[node_id],\n",
        "        )\n",
        "    )\n",
        "\n",
        "print(\"\")\n",
        "print(\"Prediction: \" + str(model.predict(x_test[0:1])[0]))\n",
        "print(\"Groung truth: \" + str(y_test[0]))"
      ],
      "execution_count": null,
      "outputs": [
        {
          "output_type": "stream",
          "name": "stdout",
          "text": [
            "decision node 0 : (x_test[105] = 19.0) > 9.5)\n",
            "decision node 30 : (x_test[105] = 19.0) > 10.5)\n",
            "\n",
            "Prediction: 1.0\n",
            "Groung truth: 1.0\n"
          ]
        },
        {
          "output_type": "display_data",
          "data": {
            "image/png": "[encoded data removed]",
            "text/plain": [
              "<Figure size 1440x1440 with 1 Axes>"
            ]
          },
          "metadata": {
            "needs_background": "light"
          }
        }
      ]
    },
    {
      "cell_type": "markdown",
      "metadata": {
        "id": "OvpFz6ENzpPY"
      },
      "source": [
        "**Random Forest**"
      ]
    },
    {
      "cell_type": "markdown",
      "metadata": {
        "id": "uix15llURwB0"
      },
      "source": [
        "KFold cross-validation: a method used to split data into validation set and training set.<br>\n",
        "Random Forest: a kind of model structure which generates prediction by combining the predictions generated by different decision trees."
      ]
    },
    {
      "cell_type": "code",
      "metadata": {
        "id": "XaK_IV52zbRN"
      },
      "source": [
        "from sklearn.ensemble import RandomForestClassifier\n",
        "\n",
        "pca_model = RandomForestClassifier()"
      ],
      "execution_count": null,
      "outputs": []
    },
    {
      "cell_type": "code",
      "metadata": {
        "id": "Se6Td_N1zWAG",
        "colab": {
          "base_uri": "https://localhost:8080/"
        },
        "outputId": "e48ee046-5cb2-481a-ccd0-7565d292ca46"
      },
      "source": [
        "kf = KFold(n_splits=3)\n",
        "\n",
        "test = []\n",
        "pca_pred = []\n",
        "\n",
        "for train_index, test_index in kf.split(x):\n",
        "  x_train, x_test = x[train_index], x[test_index]\n",
        "  y_train, y_test = y[train_index], y[test_index]\n",
        "  test.extend(y_test)\n",
        "\n",
        "  pca = PCA(n_components=4).fit(x_train)\n",
        "  pca_model.fit(pca.transform(x_train), y_train)\n",
        "  pca_y_pred = pca_model.predict(pca.transform(x_test))\n",
        "  pca_pred.extend(pca_y_pred)\n",
        "\n",
        "print('Random Forest - PCA')\n",
        "print('Confusion matrix')\n",
        "print(confusion_matrix(test, pca_pred)/3)\n",
        "print('Accuracy: ' + str(accuracy_score(test, pca_pred)))\n",
        "print('Sensitivity(Recall): ' + str(recall_score(test, pca_pred)))\n",
        "print('Precision: ' + str(precision_score(test, pca_pred)))"
      ],
      "execution_count": null,
      "outputs": [
        {
          "output_type": "stream",
          "name": "stdout",
          "text": [
            "Random Forest - PCA\n",
            "Confusion matrix\n",
            "[[37.33333333  6.        ]\n",
            " [ 7.33333333 81.        ]]\n",
            "Accuracy: 0.8987341772151899\n",
            "Sensitivity(Recall): 0.9169811320754717\n",
            "Precision: 0.9310344827586207\n"
          ]
        }
      ]
    },
    {
      "cell_type": "code",
      "metadata": {
        "id": "cz9blgpWoYKh",
        "colab": {
          "base_uri": "https://localhost:8080/"
        },
        "outputId": "8fce7b0f-e7c7-4eed-b855-2517bbfbc42a"
      },
      "source": [
        "model = RandomForestClassifier(n_estimators=50)\n",
        "\n",
        "kf = KFold(n_splits=3)\n",
        "\n",
        "test = []\n",
        "pred = []\n",
        "\n",
        "for train_index, test_index in kf.split(x):\n",
        "  x_train, x_test = x[train_index], x[test_index]\n",
        "  y_train, y_test = y[train_index], y[test_index]\n",
        "  test.extend(y_test)\n",
        "  \n",
        "  model.fit(x_train, y_train)\n",
        "  y_pred = model.predict(x_test)\n",
        "  pred.extend(y_pred)\n",
        "\n",
        "print('Random Forest - 50')\n",
        "print('Confusion matrix')\n",
        "print(confusion_matrix(test, pred)/3)\n",
        "print('Accuracy: ' + str(accuracy_score(test, pred)))\n",
        "print('Sensitivity(Recall): ' + str(recall_score(test, pred)))\n",
        "print('Precision: ' + str(precision_score(test, pred)))"
      ],
      "execution_count": null,
      "outputs": [
        {
          "output_type": "stream",
          "name": "stdout",
          "text": [
            "Random Forest - 50\n",
            "Confusion matrix\n",
            "[[35.66666667  7.66666667]\n",
            " [ 6.66666667 81.66666667]]\n",
            "Accuracy: 0.8911392405063291\n",
            "Sensitivity(Recall): 0.9245283018867925\n",
            "Precision: 0.914179104477612\n"
          ]
        }
      ]
    },
    {
      "cell_type": "code",
      "metadata": {
        "id": "Ing9ZQXez6cF",
        "colab": {
          "base_uri": "https://localhost:8080/"
        },
        "outputId": "542aa6e2-bb89-46a7-dd67-4145ef105aa3"
      },
      "source": [
        "model = RandomForestClassifier(n_estimators=100)\n",
        "\n",
        "kf = KFold(n_splits=3)\n",
        "\n",
        "test = []\n",
        "pred = []\n",
        "\n",
        "for train_index, test_index in kf.split(x):\n",
        "  x_train, x_test = x[train_index], x[test_index]\n",
        "  y_train, y_test = y[train_index], y[test_index]\n",
        "  test.extend(y_test)\n",
        "  \n",
        "  model.fit(x_train, y_train)\n",
        "  y_pred = model.predict(x_test)\n",
        "  pred.extend(y_pred)\n",
        "\n",
        "print('Random Forest - 100')\n",
        "print('Confusion matrix')\n",
        "print(confusion_matrix(test, pred)/3)\n",
        "print('Accuracy: ' + str(accuracy_score(test, pred)))\n",
        "print('Sensitivity(Recall): ' + str(recall_score(test, pred)))\n",
        "print('Precision: ' + str(precision_score(test, pred)))"
      ],
      "execution_count": null,
      "outputs": [
        {
          "output_type": "stream",
          "name": "stdout",
          "text": [
            "Random Forest - 100\n",
            "Confusion matrix\n",
            "[[36.33333333  7.        ]\n",
            " [ 7.         81.33333333]]\n",
            "Accuracy: 0.8936708860759494\n",
            "Sensitivity(Recall): 0.9207547169811321\n",
            "Precision: 0.9207547169811321\n"
          ]
        }
      ]
    },
    {
      "cell_type": "code",
      "metadata": {
        "id": "MqaqnWUgz8kl",
        "colab": {
          "base_uri": "https://localhost:8080/"
        },
        "outputId": "50c37ebd-fb8c-431d-cb14-c23e790ba72f"
      },
      "source": [
        "model = RandomForestClassifier(n_estimators=200)\n",
        "\n",
        "kf = KFold(n_splits=3)\n",
        "\n",
        "test = []\n",
        "pred = []\n",
        "\n",
        "for train_index, test_index in kf.split(x):\n",
        "  x_train, x_test = x[train_index], x[test_index]\n",
        "  y_train, y_test = y[train_index], y[test_index]\n",
        "  test.extend(y_test)\n",
        "  \n",
        "  model.fit(x_train, y_train)\n",
        "  y_pred = model.predict(x_test)\n",
        "  pred.extend(y_pred)\n",
        "\n",
        "print('Random Forest - 200')\n",
        "print('Confusion matrix')\n",
        "print(confusion_matrix(test, pred)/3)\n",
        "print('Accuracy: ' + str(accuracy_score(test, pred)))\n",
        "print('Sensitivity(Recall): ' + str(recall_score(test, pred)))\n",
        "print('Precision: ' + str(precision_score(test, pred)))"
      ],
      "execution_count": null,
      "outputs": [
        {
          "output_type": "stream",
          "name": "stdout",
          "text": [
            "Random Forest - 200\n",
            "Confusion matrix\n",
            "[[36.          7.33333333]\n",
            " [ 5.33333333 83.        ]]\n",
            "Accuracy: 0.9037974683544304\n",
            "Sensitivity(Recall): 0.939622641509434\n",
            "Precision: 0.9188191881918819\n"
          ]
        }
      ]
    },
    {
      "cell_type": "markdown",
      "metadata": {
        "id": "Ge7PmJzQCfat"
      },
      "source": [
        "**Question - Describe the difference between boosting and bagging**"
      ]
    },
    {
      "cell_type": "markdown",
      "metadata": {
        "id": "VwwBinfis0br"
      },
      "source": [
        "Boosting: combine several weak classifier into a strong classifier.\n",
        "\n",
        "Bagging: randomly draw a certain amount of samples, use these drawn data to construct a model, then put the drawn data back so it can be drawn again."
      ]
    },
    {
      "cell_type": "markdown",
      "metadata": {
        "id": "28w6Euep0Ayw"
      },
      "source": [
        "**K-Nearest Neighbor**"
      ]
    },
    {
      "cell_type": "code",
      "metadata": {
        "id": "UjdFuDQt0n8p"
      },
      "source": [
        "from sklearn.neighbors import KNeighborsClassifier\n",
        "\n",
        "pca_model = KNeighborsClassifier()"
      ],
      "execution_count": null,
      "outputs": []
    },
    {
      "cell_type": "code",
      "metadata": {
        "id": "_OWE6987r0vR",
        "colab": {
          "base_uri": "https://localhost:8080/"
        },
        "outputId": "b4ef1887-53d8-469d-fd4d-eca0a8ff0c37"
      },
      "source": [
        "kf = KFold(n_splits=3)\n",
        "\n",
        "test = []\n",
        "pca_pred = []\n",
        "\n",
        "for train_index, test_index in kf.split(x):\n",
        "  x_train, x_test = x[train_index], x[test_index]\n",
        "  y_train, y_test = y[train_index], y[test_index]\n",
        "  test.extend(y_test)\n",
        "\n",
        "  pca = PCA(n_components=2).fit(x_train)\n",
        "  pca_model.fit(pca.transform(x_train), y_train)\n",
        "  pca_y_pred = pca_model.predict(pca.transform(x_test))\n",
        "  pca_pred.extend(pca_y_pred)\n",
        "\n",
        "print('K-Nearest Neighbor - PCA')\n",
        "print('Confusion matrix')\n",
        "print(confusion_matrix(test, pca_pred)/3)\n",
        "print('Accuracy: ' + str(accuracy_score(test, pca_pred)))\n",
        "print('Sensitivity(Recall): ' + str(recall_score(test, pca_pred)))\n",
        "print('Precision: ' + str(precision_score(test, pca_pred)))"
      ],
      "execution_count": null,
      "outputs": [
        {
          "output_type": "stream",
          "name": "stdout",
          "text": [
            "K-Nearest Neighbor - PCA\n",
            "Confusion matrix\n",
            "[[35.66666667  7.66666667]\n",
            " [11.66666667 76.66666667]]\n",
            "Accuracy: 0.8531645569620253\n",
            "Sensitivity(Recall): 0.8679245283018868\n",
            "Precision: 0.9090909090909091\n"
          ]
        }
      ]
    },
    {
      "cell_type": "markdown",
      "metadata": {
        "id": "_xiJVUA5UpGW"
      },
      "source": [
        "**Bonus: pick 2 features, draw and describe the KNN decision boundaries**"
      ]
    },
    {
      "cell_type": "code",
      "metadata": {
        "id": "bMAKjZjFUyJ7",
        "colab": {
          "base_uri": "https://localhost:8080/",
          "height": 606
        },
        "outputId": "a6bc82e8-cb43-4501-9781-51275f76ee60"
      },
      "source": [
        "import seaborn as sns\n",
        "from matplotlib.colors import ListedColormap\n",
        "\n",
        "h = 0.02  # step size in the mesh\n",
        "\n",
        "# Create color maps\n",
        "cmap_light = ListedColormap([\"orange\", \"cyan\"])\n",
        "cmap_bold = [\"darkorange\", \"c\"]\n",
        "\n",
        "pca_x = pca.transform(x)\n",
        "# Plot the decision boundary. For that, we will assign a color to each\n",
        "# point in the mesh [x_min, x_max]x[y_min, y_max].\n",
        "x_min, x_max = pca_x[:, 0].min() - 1, pca_x[:, 0].max() + 1\n",
        "y_min, y_max = pca_x[:, 1].min() - 1, pca_x[:, 1].max() + 1\n",
        "xx, yy = np.meshgrid(np.arange(x_min, x_max, h), np.arange(y_min, y_max, h))\n",
        "z = pca_model.predict(np.c_[xx.ravel(), yy.ravel()])\n",
        "\n",
        "# Put the result into a color plot\n",
        "z = z.reshape(xx.shape)\n",
        "plt.figure(figsize = (10,10))\n",
        "plt.contourf(xx, yy, z, cmap=cmap_light)\n",
        "\n",
        "# Plot also the training points\n",
        "sns.scatterplot(\n",
        "    x=pca_x[:, 0],\n",
        "    y=pca_x[:, 1],\n",
        "    hue=y,\n",
        "    palette=cmap_bold,\n",
        "    alpha=1.0,\n",
        "    edgecolor=\"black\",\n",
        ")\n",
        "plt.xlim(xx.min(), xx.max())\n",
        "plt.ylim(yy.min(), yy.max())\n",
        "plt.xlabel('Principal Component 1')\n",
        "plt.ylabel('Principal Component 2')\n",
        "plt.show()"
      ],
      "execution_count": null,
      "outputs": [
        {
          "output_type": "display_data",
          "data": {
            "image/png": "[encoded data removed]",
            "text/plain": [
              "<Figure size 720x720 with 1 Axes>"
            ]
          },
          "metadata": {
            "needs_background": "light"
          }
        }
      ]
    },
    {
      "cell_type": "code",
      "metadata": {
        "id": "EQRY9roB0t2L",
        "colab": {
          "base_uri": "https://localhost:8080/"
        },
        "outputId": "a7d61c4a-f0df-4438-9b4b-3bf0898a85a5"
      },
      "source": [
        "model = KNeighborsClassifier(n_neighbors=2)\n",
        "\n",
        "kf = KFold(n_splits=3)\n",
        "\n",
        "test = []\n",
        "pred = []\n",
        "\n",
        "for train_index, test_index in kf.split(x):\n",
        "  x_train, x_test = x[train_index], x[test_index]\n",
        "  y_train, y_test = y[train_index], y[test_index]\n",
        "  test.extend(y_test)\n",
        "  \n",
        "  model.fit(x_train, y_train)\n",
        "  y_pred = model.predict(x_test)\n",
        "  pred.extend(y_pred)\n",
        "\n",
        "print('K-Nearest Neighbor - 2')\n",
        "print('Confusion matrix')\n",
        "print(confusion_matrix(test, pred)/3)\n",
        "print('Accuracy: ' + str(accuracy_score(test, pred)))\n",
        "print('Sensitivity(Recall): ' + str(recall_score(test, pred)))\n",
        "print('Precision: ' + str(precision_score(test, pred)))"
      ],
      "execution_count": null,
      "outputs": [
        {
          "output_type": "stream",
          "name": "stdout",
          "text": [
            "K-Nearest Neighbor - 2\n",
            "Confusion matrix\n",
            "[[39.33333333  4.        ]\n",
            " [18.33333333 70.        ]]\n",
            "Accuracy: 0.830379746835443\n",
            "Sensitivity(Recall): 0.7924528301886793\n",
            "Precision: 0.9459459459459459\n"
          ]
        }
      ]
    },
    {
      "cell_type": "markdown",
      "metadata": {
        "id": "YIiPlkxghMMP"
      },
      "source": [
        "**Question - Show the prediction and reasoning of one arbitrary sample in the testing set**"
      ]
    },
    {
      "cell_type": "code",
      "metadata": {
        "id": "1aMhe8tXhTL-",
        "colab": {
          "base_uri": "https://localhost:8080/"
        },
        "outputId": "777add04-ddf0-4319-8b7e-51f85151d7ac"
      },
      "source": [
        "for distance_array, index_array in zip(*model.kneighbors(x_test[0:1])):\n",
        "  for distance, index in zip(distance_array, index_array):\n",
        "    print('label: ' + str(y_train[index]))\n",
        "    print('distance: ' + str(distance))\n",
        "    print('')\n",
        "\n",
        "print(\"\")\n",
        "print(\"Prediction: \" + str(model.predict(x_test[0:1])[0]))\n",
        "print(\"Groung truth: \" + str(y_test[0]))"
      ],
      "execution_count": null,
      "outputs": [
        {
          "output_type": "stream",
          "name": "stdout",
          "text": [
            "label: 1.0\n",
            "distance: 4.795831523312719\n",
            "\n",
            "label: 1.0\n",
            "distance: 5.385164807134504\n",
            "\n",
            "\n",
            "Prediction: 1.0\n",
            "Groung truth: 1.0\n"
          ]
        }
      ]
    },
    {
      "cell_type": "code",
      "metadata": {
        "id": "FhdTta4Q0uXc",
        "colab": {
          "base_uri": "https://localhost:8080/"
        },
        "outputId": "27f0075a-d731-4337-b099-f98fd26d1ae5"
      },
      "source": [
        "model = KNeighborsClassifier(n_neighbors=5)\n",
        "\n",
        "kf = KFold(n_splits=3)\n",
        "\n",
        "test = []\n",
        "pred = []\n",
        "\n",
        "for train_index, test_index in kf.split(x):\n",
        "  x_train, x_test = x[train_index], x[test_index]\n",
        "  y_train, y_test = y[train_index], y[test_index]\n",
        "  test.extend(y_test)\n",
        "  \n",
        "  model.fit(x_train, y_train)\n",
        "  y_pred = model.predict(x_test)\n",
        "  pred.extend(y_pred)\n",
        "\n",
        "print('K-Nearest Neighbor - 5')\n",
        "print('Confusion matrix')\n",
        "print(confusion_matrix(test, pred)/3)\n",
        "print('Accuracy: ' + str(accuracy_score(test, pred)))\n",
        "print('Sensitivity(Recall): ' + str(recall_score(test, pred)))\n",
        "print('Precision: ' + str(precision_score(test, pred)))"
      ],
      "execution_count": null,
      "outputs": [
        {
          "output_type": "stream",
          "name": "stdout",
          "text": [
            "K-Nearest Neighbor - 5\n",
            "Confusion matrix\n",
            "[[33.66666667  9.66666667]\n",
            " [ 7.66666667 80.66666667]]\n",
            "Accuracy: 0.8683544303797468\n",
            "Sensitivity(Recall): 0.9132075471698113\n",
            "Precision: 0.8929889298892989\n"
          ]
        }
      ]
    },
    {
      "cell_type": "code",
      "metadata": {
        "id": "eu5Yq_BP1ri7",
        "colab": {
          "base_uri": "https://localhost:8080/"
        },
        "outputId": "c7f1294d-39dd-41e9-8118-c434d5753f6c"
      },
      "source": [
        "model = KNeighborsClassifier(n_neighbors=10)\n",
        "\n",
        "kf = KFold(n_splits=3)\n",
        "\n",
        "test = []\n",
        "pred = []\n",
        "\n",
        "for train_index, test_index in kf.split(x):\n",
        "  x_train, x_test = x[train_index], x[test_index]\n",
        "  y_train, y_test = y[train_index], y[test_index]\n",
        "  test.extend(y_test)\n",
        "  \n",
        "  model.fit(x_train, y_train)\n",
        "  y_pred = model.predict(x_test)\n",
        "  pred.extend(y_pred)\n",
        "\n",
        "print('K-Nearest Neighbor - 10')\n",
        "print('Confusion matrix')\n",
        "print(confusion_matrix(test, pred)/3)\n",
        "print('Accuracy: ' + str(accuracy_score(test, pred)))\n",
        "print('Sensitivity(Recall): ' + str(recall_score(test, pred)))\n",
        "print('Precision: ' + str(precision_score(test, pred)))"
      ],
      "execution_count": null,
      "outputs": [
        {
          "output_type": "stream",
          "name": "stdout",
          "text": [
            "K-Nearest Neighbor - 10\n",
            "Confusion matrix\n",
            "[[35.33333333  8.        ]\n",
            " [ 7.33333333 81.        ]]\n",
            "Accuracy: 0.8835443037974684\n",
            "Sensitivity(Recall): 0.9169811320754717\n",
            "Precision: 0.9101123595505618\n"
          ]
        }
      ]
    },
    {
      "cell_type": "markdown",
      "metadata": {
        "id": "U-p9nWUw4KPu"
      },
      "source": [
        "**Results**"
      ]
    },
    {
      "cell_type": "markdown",
      "metadata": {
        "id": "30BGuXL84hHN"
      },
      "source": [
        "| Binary classification | Accuracy | Sensitivity(Recall) | Precision |\n",
        "|-----------------------|:--------:|:-------------------:|:---------:|\n",
        "| Decision Tree            | 0.8734  | 0.9207          | 0.8937 |\n",
        "| Decision Tree - PCA      | 0.8708  | 0.9094          | 0.8992 |\n",
        "| Random Forest - PCA      | 0.8987  | 0.9169          | 0.9310 |\n",
        "| Random Forest - 50       | 0.8911  | 0.9245          | 0.9141 |\n",
        "| Random Forest - 100      | 0.8936  | 0.9207          | 0.9207 |\n",
        "| Random Forest - 200      | 0.9037  | 0.9396          | 0.9188 |\n",
        "| K-Nearest Neighbor - PCA | 0.8531  | 0.8679          | 0.9090 |\n",
        "| K-Nearest Neighbor - 2   | 0.8303  | 0.7924          | 0.9459 |\n",
        "| K-Nearest Neighbor - 5   | 0.8683  | 0.9132          | 0.8929 |\n",
        "| K-Nearest Neighbor - 10  | 0.8835  | 0.9169          | 0.9101 |\n"
      ]
    },
    {
      "cell_type": "markdown",
      "metadata": {
        "id": "8wrtoKx9a-zI"
      },
      "source": [
        "**Transform label format - 5-Level classification**"
      ]
    },
    {
      "cell_type": "code",
      "metadata": {
        "id": "_iuUOPDza-VD"
      },
      "source": [
        "x = np.copy(data[:, 0:-1])\n",
        "y = np.copy(data[:, -1])\n",
        "\n",
        "np.putmask(y, y<=9, 5)\n",
        "np.putmask(y, (y==10)|(y==11), 4)\n",
        "np.putmask(y, (y==12)|(y==13), 3)\n",
        "np.putmask(y, (y==14)|(y==15), 2)\n",
        "np.putmask(y, y>=16, 1)"
      ],
      "execution_count": null,
      "outputs": []
    },
    {
      "cell_type": "markdown",
      "metadata": {
        "id": "T9OgFLC7c-YH"
      },
      "source": [
        "**Decision Tree**"
      ]
    },
    {
      "cell_type": "code",
      "metadata": {
        "id": "noijJe5yc-YH"
      },
      "source": [
        "from sklearn.tree import DecisionTreeClassifier\n",
        "from sklearn.metrics import classification_report \n",
        "\n",
        "model = DecisionTreeClassifier()\n",
        "pca_model = DecisionTreeClassifier()"
      ],
      "execution_count": null,
      "outputs": []
    },
    {
      "cell_type": "code",
      "metadata": {
        "colab": {
          "base_uri": "https://localhost:8080/"
        },
        "id": "0o1yRpUKc-YH",
        "outputId": "11809265-bc74-46db-8c4c-ce2a4790c0a1"
      },
      "source": [
        "from sklearn.model_selection import KFold\n",
        "from sklearn.decomposition import PCA\n",
        "\n",
        "kf = KFold(n_splits=3)\n",
        "\n",
        "test = []\n",
        "pred = []\n",
        "pca_pred = []\n",
        "\n",
        "for train_index, test_index in kf.split(x):\n",
        "  x_train, x_test = x[train_index], x[test_index]\n",
        "  y_train, y_test = y[train_index], y[test_index]\n",
        "  test.extend(y_test)\n",
        "  \n",
        "  model.fit(x_train, y_train)\n",
        "  y_pred = model.predict(x_test)\n",
        "  pred.extend(y_pred)\n",
        "\n",
        "  pca = PCA(n_components=4).fit(x_train)\n",
        "  pca_model.fit(pca.transform(x_train), y_train)\n",
        "  pca_y_pred = pca_model.predict(pca.transform(x_test))\n",
        "  pca_pred.extend(pca_y_pred)\n",
        "\n",
        "print('Decision Tree')\n",
        "print('Confusion matrix')\n",
        "print(confusion_matrix(test, pred)/3)\n",
        "print(classification_report(test, pred, labels=[5, 4, 3, 2, 1]))\n",
        "print('')\n",
        "print('Decision Tree - PCA')\n",
        "print('Confusion matrix')\n",
        "print(confusion_matrix(test, pca_pred)/3)\n",
        "print(classification_report(test, pca_pred, labels=[5, 4, 3, 2, 1]))\n"
      ],
      "execution_count": null,
      "outputs": [
        {
          "output_type": "stream",
          "name": "stdout",
          "text": [
            "Decision Tree\n",
            "Confusion matrix\n",
            "[[ 9.          4.33333333  0.          0.          0.        ]\n",
            " [ 4.33333333 12.66666667  3.          0.          0.        ]\n",
            " [ 0.          5.         10.          5.33333333  0.33333333]\n",
            " [ 0.          0.66666667  5.66666667 19.66666667  8.33333333]\n",
            " [ 0.          0.          0.          8.         35.33333333]]\n",
            "              precision    recall  f1-score   support\n",
            "\n",
            "           5       0.80      0.82      0.81       130\n",
            "           4       0.60      0.57      0.58       103\n",
            "           3       0.54      0.48      0.51        62\n",
            "           2       0.56      0.63      0.59        60\n",
            "           1       0.68      0.68      0.68        40\n",
            "\n",
            "    accuracy                           0.66       395\n",
            "   macro avg       0.63      0.64      0.63       395\n",
            "weighted avg       0.66      0.66      0.66       395\n",
            "\n",
            "\n",
            "Decision Tree - PCA\n",
            "Confusion matrix\n",
            "[[11.          2.33333333  0.          0.          0.        ]\n",
            " [ 3.33333333 12.          4.33333333  0.33333333  0.        ]\n",
            " [ 0.          6.          9.          5.33333333  0.33333333]\n",
            " [ 0.33333333  0.66666667  7.33333333 19.66666667  6.33333333]\n",
            " [ 0.          0.          0.          9.         34.33333333]]\n",
            "              precision    recall  f1-score   support\n",
            "\n",
            "           5       0.84      0.79      0.81       130\n",
            "           4       0.57      0.57      0.57       103\n",
            "           3       0.44      0.44      0.44        62\n",
            "           2       0.57      0.60      0.59        60\n",
            "           1       0.75      0.82      0.79        40\n",
            "\n",
            "    accuracy                           0.65       395\n",
            "   macro avg       0.63      0.65      0.64       395\n",
            "weighted avg       0.66      0.65      0.65       395\n",
            "\n"
          ]
        }
      ]
    },
    {
      "cell_type": "markdown",
      "metadata": {
        "id": "MKZugjotd7Vi"
      },
      "source": [
        "**Random Forest**"
      ]
    },
    {
      "cell_type": "code",
      "metadata": {
        "id": "CINqKpqBd7Vn"
      },
      "source": [
        "from sklearn.ensemble import RandomForestClassifier\n",
        "\n",
        "pca_model = RandomForestClassifier()"
      ],
      "execution_count": null,
      "outputs": []
    },
    {
      "cell_type": "code",
      "metadata": {
        "colab": {
          "base_uri": "https://localhost:8080/"
        },
        "id": "LWetmYFVd7Vn",
        "outputId": "14036f05-04cd-441c-f7b5-45bc89e3be48"
      },
      "source": [
        "kf = KFold(n_splits=3)\n",
        "\n",
        "test = []\n",
        "pca_pred = []\n",
        "\n",
        "for train_index, test_index in kf.split(x):\n",
        "  x_train, x_test = x[train_index], x[test_index]\n",
        "  y_train, y_test = y[train_index], y[test_index]\n",
        "  test.extend(y_test)\n",
        "\n",
        "  pca = PCA(n_components=4).fit(x_train)\n",
        "  pca_model.fit(pca.transform(x_train), y_train)\n",
        "  pca_y_pred = pca_model.predict(pca.transform(x_test))\n",
        "  pca_pred.extend(pca_y_pred)\n",
        "\n",
        "print('Random Forest - PCA')\n",
        "print('Confusion matrix')\n",
        "print(confusion_matrix(test, pca_pred)/3)\n",
        "print(classification_report(test, pca_pred, labels=[5, 4, 3, 2, 1]))"
      ],
      "execution_count": null,
      "outputs": [
        {
          "output_type": "stream",
          "name": "stdout",
          "text": [
            "Random Forest - PCA\n",
            "Confusion matrix\n",
            "[[ 9.33333333  4.          0.          0.          0.        ]\n",
            " [ 3.33333333 12.33333333  4.33333333  0.          0.        ]\n",
            " [ 0.          3.66666667 12.66666667  4.33333333  0.        ]\n",
            " [ 0.          0.33333333  5.33333333 22.          6.66666667]\n",
            " [ 0.          0.          0.          7.         36.33333333]]\n",
            "              precision    recall  f1-score   support\n",
            "\n",
            "           5       0.84      0.84      0.84       130\n",
            "           4       0.66      0.64      0.65       103\n",
            "           3       0.57      0.61      0.59        62\n",
            "           2       0.61      0.62      0.61        60\n",
            "           1       0.74      0.70      0.72        40\n",
            "\n",
            "    accuracy                           0.70       395\n",
            "   macro avg       0.68      0.68      0.68       395\n",
            "weighted avg       0.71      0.70      0.70       395\n",
            "\n"
          ]
        }
      ]
    },
    {
      "cell_type": "code",
      "metadata": {
        "colab": {
          "base_uri": "https://localhost:8080/"
        },
        "id": "IErX3EPOd7Vo",
        "outputId": "3e901744-a022-4118-f1f7-aacaf70bdccb"
      },
      "source": [
        "model = RandomForestClassifier(n_estimators=50)\n",
        "\n",
        "kf = KFold(n_splits=3)\n",
        "\n",
        "test = []\n",
        "pred = []\n",
        "\n",
        "for train_index, test_index in kf.split(x):\n",
        "  x_train, x_test = x[train_index], x[test_index]\n",
        "  y_train, y_test = y[train_index], y[test_index]\n",
        "  test.extend(y_test)\n",
        "  \n",
        "  model.fit(x_train, y_train)\n",
        "  y_pred = model.predict(x_test)\n",
        "  pred.extend(y_pred)\n",
        "\n",
        "print('Random Forest - 50')\n",
        "print('Confusion matrix')\n",
        "print(confusion_matrix(test, pred)/3)\n",
        "print(classification_report(test, pred, labels=[5, 4, 3, 2, 1]))"
      ],
      "execution_count": null,
      "outputs": [
        {
          "output_type": "stream",
          "name": "stdout",
          "text": [
            "Random Forest - 50\n",
            "Confusion matrix\n",
            "[[ 7.66666667  4.66666667  1.          0.          0.        ]\n",
            " [ 3.         13.66666667  2.33333333  1.          0.        ]\n",
            " [ 0.          3.33333333  8.          9.          0.33333333]\n",
            " [ 0.          0.33333333  5.         18.66666667 10.33333333]\n",
            " [ 0.          0.          0.          4.         39.33333333]]\n",
            "              precision    recall  f1-score   support\n",
            "\n",
            "           5       0.79      0.91      0.84       130\n",
            "           4       0.57      0.54      0.56       103\n",
            "           3       0.49      0.39      0.43        62\n",
            "           2       0.62      0.68      0.65        60\n",
            "           1       0.72      0.57      0.64        40\n",
            "\n",
            "    accuracy                           0.66       395\n",
            "   macro avg       0.64      0.62      0.62       395\n",
            "weighted avg       0.65      0.66      0.65       395\n",
            "\n"
          ]
        }
      ]
    },
    {
      "cell_type": "code",
      "metadata": {
        "colab": {
          "base_uri": "https://localhost:8080/"
        },
        "id": "y4Lj8sjzd7Vo",
        "outputId": "3ad17634-ae48-468a-ea9d-e424be43032a"
      },
      "source": [
        "model = RandomForestClassifier(n_estimators=100)\n",
        "\n",
        "kf = KFold(n_splits=3)\n",
        "\n",
        "test = []\n",
        "pred = []\n",
        "\n",
        "for train_index, test_index in kf.split(x):\n",
        "  x_train, x_test = x[train_index], x[test_index]\n",
        "  y_train, y_test = y[train_index], y[test_index]\n",
        "  test.extend(y_test)\n",
        "  \n",
        "  model.fit(x_train, y_train)\n",
        "  y_pred = model.predict(x_test)\n",
        "  pred.extend(y_pred)\n",
        "\n",
        "print('Random Forest - 100')\n",
        "print('Confusion matrix')\n",
        "print(confusion_matrix(test, pred)/3)\n",
        "print(classification_report(test, pred, labels=[5, 4, 3, 2, 1]))"
      ],
      "execution_count": null,
      "outputs": [
        {
          "output_type": "stream",
          "name": "stdout",
          "text": [
            "Random Forest - 100\n",
            "Confusion matrix\n",
            "[[ 5.33333333  6.          2.          0.          0.        ]\n",
            " [ 1.66666667 14.33333333  3.          1.          0.        ]\n",
            " [ 0.          2.66666667  8.66666667  9.          0.33333333]\n",
            " [ 0.          0.66666667  3.66666667 21.          9.        ]\n",
            " [ 0.          0.          0.          4.         39.33333333]]\n",
            "              precision    recall  f1-score   support\n",
            "\n",
            "           5       0.81      0.91      0.86       130\n",
            "           4       0.60      0.61      0.61       103\n",
            "           3       0.50      0.42      0.46        62\n",
            "           2       0.61      0.72      0.66        60\n",
            "           1       0.76      0.40      0.52        40\n",
            "\n",
            "    accuracy                           0.67       395\n",
            "   macro avg       0.66      0.61      0.62       395\n",
            "weighted avg       0.67      0.67      0.66       395\n",
            "\n"
          ]
        }
      ]
    },
    {
      "cell_type": "code",
      "metadata": {
        "colab": {
          "base_uri": "https://localhost:8080/"
        },
        "id": "O_33gXVRd7Vo",
        "outputId": "6053528b-4824-453b-e6f2-568765ac16c0"
      },
      "source": [
        "model = RandomForestClassifier(n_estimators=200)\n",
        "\n",
        "kf = KFold(n_splits=3)\n",
        "\n",
        "test = []\n",
        "pred = []\n",
        "\n",
        "for train_index, test_index in kf.split(x):\n",
        "  x_train, x_test = x[train_index], x[test_index]\n",
        "  y_train, y_test = y[train_index], y[test_index]\n",
        "  test.extend(y_test)\n",
        "  \n",
        "  model.fit(x_train, y_train)\n",
        "  y_pred = model.predict(x_test)\n",
        "  pred.extend(y_pred)\n",
        "\n",
        "print('Random Forest - 200')\n",
        "print('Confusion matrix')\n",
        "print(confusion_matrix(test, pred)/3)\n",
        "print(classification_report(test, pred, labels=[5, 4, 3, 2, 1]))"
      ],
      "execution_count": null,
      "outputs": [
        {
          "output_type": "stream",
          "name": "stdout",
          "text": [
            "Random Forest - 200\n",
            "Confusion matrix\n",
            "[[ 5.66666667  7.          0.33333333  0.33333333  0.        ]\n",
            " [ 1.         16.          2.33333333  0.66666667  0.        ]\n",
            " [ 0.          3.          6.33333333 11.          0.33333333]\n",
            " [ 0.          0.33333333  3.66666667 21.          9.33333333]\n",
            " [ 0.          0.          0.          4.66666667 38.66666667]]\n",
            "              precision    recall  f1-score   support\n",
            "\n",
            "           5       0.80      0.89      0.84       130\n",
            "           4       0.56      0.61      0.58       103\n",
            "           3       0.50      0.31      0.38        62\n",
            "           2       0.61      0.80      0.69        60\n",
            "           1       0.85      0.42      0.57        40\n",
            "\n",
            "    accuracy                           0.67       395\n",
            "   macro avg       0.66      0.61      0.61       395\n",
            "weighted avg       0.67      0.67      0.65       395\n",
            "\n"
          ]
        }
      ]
    },
    {
      "cell_type": "markdown",
      "metadata": {
        "id": "Tu66NRGxiEog"
      },
      "source": [
        "**K-Nearest Neighbor**"
      ]
    },
    {
      "cell_type": "code",
      "metadata": {
        "id": "8iIIjPWjiEol"
      },
      "source": [
        "from sklearn.neighbors import KNeighborsClassifier\n",
        "\n",
        "pca_model = KNeighborsClassifier()"
      ],
      "execution_count": null,
      "outputs": []
    },
    {
      "cell_type": "code",
      "metadata": {
        "colab": {
          "base_uri": "https://localhost:8080/"
        },
        "id": "Egqmw8XdiEol",
        "outputId": "0c7201e0-92f4-4a62-889d-38cd97bcd7a0"
      },
      "source": [
        "kf = KFold(n_splits=3)\n",
        "\n",
        "test = []\n",
        "pca_pred = []\n",
        "\n",
        "for train_index, test_index in kf.split(x):\n",
        "  x_train, x_test = x[train_index], x[test_index]\n",
        "  y_train, y_test = y[train_index], y[test_index]\n",
        "  test.extend(y_test)\n",
        "\n",
        "  pca = PCA(n_components=4).fit(x_train)\n",
        "  pca_model.fit(pca.transform(x_train), y_train)\n",
        "  pca_y_pred = pca_model.predict(pca.transform(x_test))\n",
        "  pca_pred.extend(pca_y_pred)\n",
        "\n",
        "print('K-Nearest Neighbor - PCA')\n",
        "print('Confusion matrix')\n",
        "print(confusion_matrix(test, pca_pred)/3)\n",
        "print(classification_report(test, pred, labels=[5, 4, 3, 2, 1]))"
      ],
      "execution_count": null,
      "outputs": [
        {
          "output_type": "stream",
          "name": "stdout",
          "text": [
            "K-Nearest Neighbor - PCA\n",
            "Confusion matrix\n",
            "[[ 7.66666667  5.          0.66666667  0.          0.        ]\n",
            " [ 3.         13.66666667  3.          0.33333333  0.        ]\n",
            " [ 0.          4.          9.          7.66666667  0.        ]\n",
            " [ 0.          0.33333333  6.33333333 19.33333333  8.33333333]\n",
            " [ 0.          0.          0.33333333  6.66666667 36.33333333]]\n",
            "              precision    recall  f1-score   support\n",
            "\n",
            "           5       0.80      0.89      0.84       130\n",
            "           4       0.56      0.61      0.58       103\n",
            "           3       0.50      0.31      0.38        62\n",
            "           2       0.61      0.80      0.69        60\n",
            "           1       0.85      0.42      0.57        40\n",
            "\n",
            "    accuracy                           0.67       395\n",
            "   macro avg       0.66      0.61      0.61       395\n",
            "weighted avg       0.67      0.67      0.65       395\n",
            "\n"
          ]
        }
      ]
    },
    {
      "cell_type": "code",
      "metadata": {
        "colab": {
          "base_uri": "https://localhost:8080/"
        },
        "id": "QxXqRL8FiEol",
        "outputId": "5550c1e2-fea4-4a20-e4bc-a02e3b3fecb8"
      },
      "source": [
        "model = KNeighborsClassifier(n_neighbors=2)\n",
        "\n",
        "kf = KFold(n_splits=3)\n",
        "\n",
        "test = []\n",
        "pred = []\n",
        "\n",
        "for train_index, test_index in kf.split(x):\n",
        "  x_train, x_test = x[train_index], x[test_index]\n",
        "  y_train, y_test = y[train_index], y[test_index]\n",
        "  test.extend(y_test)\n",
        "  \n",
        "  model.fit(x_train, y_train)\n",
        "  y_pred = model.predict(x_test)\n",
        "  pred.extend(y_pred)\n",
        "\n",
        "print('K-Nearest Neighbor - 2')\n",
        "print('Confusion matrix')\n",
        "print(confusion_matrix(test, pred)/3)\n",
        "print(classification_report(test, pred, labels=[5, 4, 3, 2, 1]))"
      ],
      "execution_count": null,
      "outputs": [
        {
          "output_type": "stream",
          "name": "stdout",
          "text": [
            "K-Nearest Neighbor - 2\n",
            "Confusion matrix\n",
            "[[10.66666667  2.33333333  0.33333333  0.          0.        ]\n",
            " [ 5.66666667 11.33333333  2.66666667  0.33333333  0.        ]\n",
            " [ 1.          8.          8.          3.66666667  0.        ]\n",
            " [ 0.          2.33333333  8.66666667 17.33333333  6.        ]\n",
            " [ 0.          0.          0.33333333 14.66666667 28.33333333]]\n",
            "              precision    recall  f1-score   support\n",
            "\n",
            "           5       0.83      0.65      0.73       130\n",
            "           4       0.48      0.50      0.49       103\n",
            "           3       0.40      0.39      0.39        62\n",
            "           2       0.47      0.57      0.52        60\n",
            "           1       0.62      0.80      0.70        40\n",
            "\n",
            "    accuracy                           0.57       395\n",
            "   macro avg       0.56      0.58      0.57       395\n",
            "weighted avg       0.59      0.57      0.58       395\n",
            "\n"
          ]
        }
      ]
    },
    {
      "cell_type": "code",
      "metadata": {
        "colab": {
          "base_uri": "https://localhost:8080/"
        },
        "id": "9xiqXrzNiEol",
        "outputId": "4943a299-9265-4ae8-a078-02ad9c12470f"
      },
      "source": [
        "model = KNeighborsClassifier(n_neighbors=5)\n",
        "\n",
        "kf = KFold(n_splits=3)\n",
        "\n",
        "test = []\n",
        "pred = []\n",
        "\n",
        "for train_index, test_index in kf.split(x):\n",
        "  x_train, x_test = x[train_index], x[test_index]\n",
        "  y_train, y_test = y[train_index], y[test_index]\n",
        "  test.extend(y_test)\n",
        "  \n",
        "  model.fit(x_train, y_train)\n",
        "  y_pred = model.predict(x_test)\n",
        "  pred.extend(y_pred)\n",
        "\n",
        "print('K-Nearest Neighbor - 5')\n",
        "print('Confusion matrix')\n",
        "print(confusion_matrix(test, pred)/3)\n",
        "print(classification_report(test, pred, labels=[5, 4, 3, 2, 1]))"
      ],
      "execution_count": null,
      "outputs": [
        {
          "output_type": "stream",
          "name": "stdout",
          "text": [
            "K-Nearest Neighbor - 5\n",
            "Confusion matrix\n",
            "[[ 9.          3.66666667  0.66666667  0.          0.        ]\n",
            " [ 2.33333333 15.33333333  2.          0.33333333  0.        ]\n",
            " [ 0.          6.33333333  8.          6.          0.33333333]\n",
            " [ 0.          1.          5.66666667 19.66666667  8.        ]\n",
            " [ 0.          0.          0.          9.66666667 33.66666667]]\n",
            "              precision    recall  f1-score   support\n",
            "\n",
            "           5       0.80      0.78      0.79       130\n",
            "           4       0.55      0.57      0.56       103\n",
            "           3       0.49      0.39      0.43        62\n",
            "           2       0.58      0.77      0.66        60\n",
            "           1       0.79      0.68      0.73        40\n",
            "\n",
            "    accuracy                           0.65       395\n",
            "   macro avg       0.64      0.64      0.63       395\n",
            "weighted avg       0.65      0.65      0.65       395\n",
            "\n"
          ]
        }
      ]
    },
    {
      "cell_type": "code",
      "metadata": {
        "colab": {
          "base_uri": "https://localhost:8080/"
        },
        "id": "qTb0pHRziEol",
        "outputId": "52892c87-cd90-4537-ce2a-b3572960c6f0"
      },
      "source": [
        "model = KNeighborsClassifier(n_neighbors=10)\n",
        "\n",
        "kf = KFold(n_splits=3)\n",
        "\n",
        "test = []\n",
        "pred = []\n",
        "\n",
        "for train_index, test_index in kf.split(x):\n",
        "  x_train, x_test = x[train_index], x[test_index]\n",
        "  y_train, y_test = y[train_index], y[test_index]\n",
        "  test.extend(y_test)\n",
        "  \n",
        "  model.fit(x_train, y_train)\n",
        "  y_pred = model.predict(x_test)\n",
        "  pred.extend(y_pred)\n",
        "\n",
        "print('K-Nearest Neighbor - 10')\n",
        "print('Confusion matrix')\n",
        "print(confusion_matrix(test, pred)/3)\n",
        "print(classification_report(test, pred, labels=[5, 4, 3, 2, 1]))"
      ],
      "execution_count": null,
      "outputs": [
        {
          "output_type": "stream",
          "name": "stdout",
          "text": [
            "K-Nearest Neighbor - 10\n",
            "Confusion matrix\n",
            "[[ 9.33333333  3.33333333  0.66666667  0.          0.        ]\n",
            " [ 1.33333333 15.66666667  2.33333333  0.66666667  0.        ]\n",
            " [ 0.          5.33333333  6.66666667  8.66666667  0.        ]\n",
            " [ 0.          0.33333333  5.         23.33333333  5.66666667]\n",
            " [ 0.          0.          0.         10.66666667 32.66666667]]\n",
            "              precision    recall  f1-score   support\n",
            "\n",
            "           5       0.85      0.75      0.80       130\n",
            "           4       0.54      0.68      0.60       103\n",
            "           3       0.45      0.32      0.38        62\n",
            "           2       0.64      0.78      0.70        60\n",
            "           1       0.88      0.70      0.78        40\n",
            "\n",
            "    accuracy                           0.67       395\n",
            "   macro avg       0.67      0.65      0.65       395\n",
            "weighted avg       0.68      0.67      0.66       395\n",
            "\n"
          ]
        }
      ]
    },
    {
      "cell_type": "markdown",
      "metadata": {
        "id": "ldwKRq2Y4TAF"
      },
      "source": [
        "**Results**"
      ]
    },
    {
      "cell_type": "markdown",
      "metadata": {
        "id": "dSyhBbP04emR"
      },
      "source": [
        "| 5-Level classification | Accuracy |\n",
        "|------------------------|:--------:|\n",
        "| Decision Tree            | 0.66 |\n",
        "| Decision Tree - PCA      | 0.65 |\n",
        "| Random Forest - PCA      | 0.70 |\n",
        "| Random Forest - 50       | 0.66 |\n",
        "| Random Forest - 100      | 0.67 |\n",
        "| Random Forest - 200      | 0.67 |\n",
        "| K-Nearest Neighbor - PCA | 0.67 |\n",
        "| K-Nearest Neighbor - 2   | 0.57 |\n",
        "| K-Nearest Neighbor - 5   | 0.65 |\n",
        "| K-Nearest Neighbor - 10  | 0.67 |\n"
      ]
    },
    {
      "cell_type": "markdown",
      "metadata": {
        "id": "fcKFcNGcKw9X"
      },
      "source": [
        "| Sensitivity(Recall) | V | IV | III | II | I |\n",
        "|---------------------|:-:|:--:|:---:|:--:|:--|\n",
        "| Decision Tree            | 0.82 | 0.57 | 0.48 | 0.63 | 0.68|\n",
        "| Decision Tree - PCA      | 0.79 | 0.57 | 0.44 | 0.60 | 0.82|\n",
        "| Random Forest - PCA      | 0.84 | 0.64 | 0.61 | 0.62 | 0.70|\n",
        "| Random Forest - 50       | 0.91 | 0.54 | 0.39 | 0.68 | 0.57|\n",
        "| Random Forest - 100      | 0.91 | 0.61 | 0.42 | 0.72 | 0.40|\n",
        "| Random Forest - 200      | 0.89 | 0.61 | 0.31 | 0.80 | 0.42|\n",
        "| K-Nearest Neighbor - PCA | 0.89 | 0.61 | 0.31 | 0.80 | 0.42|\n",
        "| K-Nearest Neighbor - 2   | 0.65 | 0.50 | 0.39 | 0.57 | 0.80|\n",
        "| K-Nearest Neighbor - 5   | 0.78 | 0.57 | 0.39 | 0.77 | 0.68|\n",
        "| K-Nearest Neighbor - 10  | 0.75 | 0.68 | 0.32 | 0.78 | 0.70|\n"
      ]
    },
    {
      "cell_type": "markdown",
      "metadata": {
        "id": "ldrbWUTLPT1m"
      },
      "source": [
        "| Precision | V | IV | III | II | I |\n",
        "|-----------|:-:|:--:|:---:|:--:|:--|\n",
        "| Decision Tree            | 0.80 | 0.60 | 0.54 | 0.56 | 0.68|\n",
        "| Decision Tree - PCA      | 0.84 | 0.57 | 0.44 | 0.57 | 0.75|\n",
        "| Random Forest - PCA      | 0.84 | 0.66 | 0.57 | 0.61 | 0.74|\n",
        "| Random Forest - 50       | 0.79 | 0.57 | 0.49 | 0.62 | 0.72|\n",
        "| Random Forest - 100      | 0.81 | 0.60 | 0.50 | 0.61 | 0.76|\n",
        "| Random Forest - 200      | 0.80 | 0.56 | 0.50 | 0.61 | 0.85|\n",
        "| K-Nearest Neighbor - PCA | 0.80 | 0.56 | 0.50 | 0.61 | 0.85|\n",
        "| K-Nearest Neighbor - 2   | 0.83 | 0.48 | 0.40 | 0.47 | 0.62|\n",
        "| K-Nearest Neighbor - 5   | 0.80 | 0.55 | 0.49 | 0.58 | 0.79|\n",
        "| K-Nearest Neighbor - 10  | 0.85 | 0.54 | 0.45 | 0.64 | 0.88|\n"
      ]
    },
    {
      "cell_type": "markdown",
      "metadata": {
        "id": "O0DIyKwHkL_J"
      },
      "source": [
        "**Question - In 5-Level classification, reduce the data dimension to 2 using PCA and draw a scatter plot. You have to colorize the data points based on their labels**"
      ]
    },
    {
      "cell_type": "code",
      "metadata": {
        "colab": {
          "base_uri": "https://localhost:8080/",
          "height": 606
        },
        "id": "vhHocrKbkMXy",
        "outputId": "98fe116d-50a6-4be8-b871-7fd96d0cbd39"
      },
      "source": [
        "import matplotlib.pyplot as plt\n",
        "from sklearn.decomposition import PCA\n",
        "\n",
        "pca_x = PCA(n_components=2).fit_transform(x)\n",
        "\n",
        "targets = [5, 4, 3, 2, 1]\n",
        "colors = ['r', 'g', 'b', 'c', 'y']\n",
        "\n",
        "plt.figure(figsize = (10,10))\n",
        "\n",
        "for target, color in zip(targets,colors):\n",
        "  index = np.where(y==target)\n",
        "  plt.scatter(pca_x[index,1], pca_x[index,0], s=10, label=target, c=color)\n",
        "\n",
        "plt.xlabel('Principal Component 1')\n",
        "plt.ylabel('Principal Component 2')\n",
        "plt.legend()\n",
        "plt.grid()\n",
        "plt.show()"
      ],
      "execution_count": null,
      "outputs": [
        {
          "output_type": "display_data",
          "data": {
            "image/png": "[encoded data removed]",
            "text/plain": [
              "<Figure size 720x720 with 1 Axes>"
            ]
          },
          "metadata": {
            "needs_background": "light"
          }
        }
      ]
    }
  ]
}