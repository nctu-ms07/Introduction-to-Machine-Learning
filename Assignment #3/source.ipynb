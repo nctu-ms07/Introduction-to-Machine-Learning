{
  "nbformat": 4,
  "nbformat_minor": 0,
  "metadata": {
    "kernelspec": {
      "name": "python3",
      "display_name": "Python 3"
    },
    "language_info": {
      "name": "python"
    }
  },
  "cells": [
    {
      "cell_type": "markdown",
      "metadata": {
        "id": "yON7UKBkiXDx"
      },
      "source": [
        "**Data Input**"
      ]
    },
    {
      "cell_type": "code",
      "metadata": {
        "id": "L_LpupfwG821"
      },
      "source": [
        "import csv\n",
        "import numpy as np\n",
        "np.set_printoptions(suppress=True)\n",
        "\n",
        "def remove_duplicate_delimiter(f, delimiter):\n",
        "  for line in f:\n",
        "    yield delimiter.join(field for field in line.split(delimiter) if field)\n",
        "\n",
        "with open('seeds_dataset.txt', newline='') as csv_file:\n",
        "    seeds = np.asarray(list(csv.reader(remove_duplicate_delimiter(csv_file, '\\t'), delimiter='\\t')))\n",
        "\n",
        "with open('ionosphere.data', newline='') as csv_file:\n",
        "    ionosphere = np.asarray(list(csv.reader(csv_file, delimiter=',')))"
      ],
      "execution_count": null,
      "outputs": []
    },
    {
      "cell_type": "markdown",
      "metadata": {
        "id": "GbMzQjzDnOk3"
      },
      "source": [
        "**Shuffle the data**"
      ]
    },
    {
      "cell_type": "code",
      "metadata": {
        "id": "7su5Say-mWjm"
      },
      "source": [
        "np.random.shuffle(seeds)\n",
        "np.random.shuffle(ionosphere)"
      ],
      "execution_count": null,
      "outputs": []
    },
    {
      "cell_type": "markdown",
      "metadata": {
        "id": "6rNVHtgmBaPq"
      },
      "source": [
        "**Support Vector Machine**"
      ]
    },
    {
      "cell_type": "code",
      "metadata": {
        "id": "GLsV2PAatjdk"
      },
      "source": [
        "from sklearn.model_selection import train_test_split\n",
        "\n",
        "x_train, x_test, y_train, y_test = train_test_split(ionosphere[:,0:-1], ionosphere[:,-1], test_size=0.3)"
      ],
      "execution_count": null,
      "outputs": []
    },
    {
      "cell_type": "markdown",
      "metadata": {
        "id": "vdgV7P6YCQ-S"
      },
      "source": [
        "**Question-Show the average performance of K-fold cross-validation of parameter search in tables for each kernel**"
      ]
    },
    {
      "cell_type": "code",
      "metadata": {
        "id": "ZchKNSEy7qHv"
      },
      "source": [
        "from sklearn.model_selection import GridSearchCV\n",
        "from sklearn.svm import SVC\n",
        "from sklearn.metrics import confusion_matrix, classification_report\n",
        "import pandas as pd\n",
        "\n",
        "# Set the parameters by cross-validation\n",
        "poly_parameters = [\n",
        "    {\"coef0\": [0, 1, 10], \"gamma\": [1e-3, 1e-4, 1e-5], \"degree\": [3, 5, 7]},\n",
        "]\n",
        "\n",
        "rbf_parameters = [\n",
        "    {\"gamma\": [1e-3, 1e-4, 1e-5]},\n",
        "]"
      ],
      "execution_count": null,
      "outputs": []
    },
    {
      "cell_type": "markdown",
      "metadata": {
        "id": "uuy-W2eEB1_8"
      },
      "source": [
        "**linear kernel**"
      ]
    },
    {
      "cell_type": "code",
      "metadata": {
        "colab": {
          "base_uri": "https://localhost:8080/"
        },
        "id": "wIsOq3MKy2xb",
        "outputId": "91e24fca-7951-4a8c-da3c-85a68b35ef08"
      },
      "source": [
        "model = SVC(C=1, kernel='linear', tol=1e-6)\n",
        "model.fit(x_train, y_train)\n",
        "print('Confusion matrix')\n",
        "y_pred = model.predict(x_test)\n",
        "print(confusion_matrix(y_test, y_pred))\n",
        "print(classification_report(y_test, y_pred))\n"
      ],
      "execution_count": null,
      "outputs": [
        {
          "output_type": "stream",
          "name": "stdout",
          "text": [
            "Confusion matrix\n",
            "[[20 18]\n",
            " [ 2 66]]\n",
            "              precision    recall  f1-score   support\n",
            "\n",
            "           b       0.91      0.53      0.67        38\n",
            "           g       0.79      0.97      0.87        68\n",
            "\n",
            "    accuracy                           0.81       106\n",
            "   macro avg       0.85      0.75      0.77       106\n",
            "weighted avg       0.83      0.81      0.80       106\n",
            "\n"
          ]
        }
      ]
    },
    {
      "cell_type": "markdown",
      "metadata": {
        "id": "FfaLhTnQB3sB"
      },
      "source": [
        "**polynomial kernel**"
      ]
    },
    {
      "cell_type": "code",
      "metadata": {
        "colab": {
          "base_uri": "https://localhost:8080/"
        },
        "id": "MIueAyzv5214",
        "outputId": "14a6a6d9-f37e-4be1-ed2e-8863d9cce809"
      },
      "source": [
        "model = GridSearchCV(SVC(C=100, kernel='poly', tol=1e-6), poly_parameters, scoring='accuracy', cv=5)\n",
        "model.fit(x_train, y_train)\n",
        "print(\"Best parameters set found on development set:\")\n",
        "print()\n",
        "print(model.best_params_)\n",
        "print()\n",
        "print('Confusion matrix')\n",
        "y_pred = model.predict(x_test)\n",
        "print(confusion_matrix(y_test, y_pred))\n",
        "print(classification_report(y_test, y_pred))\n",
        "print()\n",
        "print(pd.DataFrame({'parameters': model.cv_results_['params'], 'average performance': model.cv_results_['mean_test_score']}))"
      ],
      "execution_count": null,
      "outputs": [
        {
          "output_type": "stream",
          "name": "stdout",
          "text": [
            "Best parameters set found on development set:\n",
            "\n",
            "{'coef0': 10, 'degree': 3, 'gamma': 0.0001}\n",
            "\n",
            "Confusion matrix\n",
            "[[20 18]\n",
            " [ 4 64]]\n",
            "              precision    recall  f1-score   support\n",
            "\n",
            "           b       0.83      0.53      0.65        38\n",
            "           g       0.78      0.94      0.85        68\n",
            "\n",
            "    accuracy                           0.79       106\n",
            "   macro avg       0.81      0.73      0.75       106\n",
            "weighted avg       0.80      0.79      0.78       106\n",
            "\n",
            "\n",
            "                                     parameters  average performance\n",
            "0     {'coef0': 0, 'degree': 3, 'gamma': 0.001}             0.640816\n",
            "1    {'coef0': 0, 'degree': 3, 'gamma': 0.0001}             0.640816\n",
            "2     {'coef0': 0, 'degree': 3, 'gamma': 1e-05}             0.640816\n",
            "3     {'coef0': 0, 'degree': 5, 'gamma': 0.001}             0.640816\n",
            "4    {'coef0': 0, 'degree': 5, 'gamma': 0.0001}             0.640816\n",
            "5     {'coef0': 0, 'degree': 5, 'gamma': 1e-05}             0.640816\n",
            "6     {'coef0': 0, 'degree': 7, 'gamma': 0.001}             0.640816\n",
            "7    {'coef0': 0, 'degree': 7, 'gamma': 0.0001}             0.640816\n",
            "8     {'coef0': 0, 'degree': 7, 'gamma': 1e-05}             0.640816\n",
            "9     {'coef0': 1, 'degree': 3, 'gamma': 0.001}             0.877551\n",
            "10   {'coef0': 1, 'degree': 3, 'gamma': 0.0001}             0.873469\n",
            "11    {'coef0': 1, 'degree': 3, 'gamma': 1e-05}             0.640816\n",
            "12    {'coef0': 1, 'degree': 5, 'gamma': 0.001}             0.869388\n",
            "13   {'coef0': 1, 'degree': 5, 'gamma': 0.0001}             0.877551\n",
            "14    {'coef0': 1, 'degree': 5, 'gamma': 1e-05}             0.681633\n",
            "15    {'coef0': 1, 'degree': 7, 'gamma': 0.001}             0.897959\n",
            "16   {'coef0': 1, 'degree': 7, 'gamma': 0.0001}             0.877551\n",
            "17    {'coef0': 1, 'degree': 7, 'gamma': 1e-05}             0.759184\n",
            "18   {'coef0': 10, 'degree': 3, 'gamma': 0.001}             0.873469\n",
            "19  {'coef0': 10, 'degree': 3, 'gamma': 0.0001}             0.902041\n",
            "20   {'coef0': 10, 'degree': 3, 'gamma': 1e-05}             0.873469\n",
            "21   {'coef0': 10, 'degree': 5, 'gamma': 0.001}             0.853061\n",
            "22  {'coef0': 10, 'degree': 5, 'gamma': 0.0001}             0.857143\n",
            "23   {'coef0': 10, 'degree': 5, 'gamma': 1e-05}             0.865306\n",
            "24   {'coef0': 10, 'degree': 7, 'gamma': 0.001}             0.848980\n",
            "25  {'coef0': 10, 'degree': 7, 'gamma': 0.0001}             0.844898\n",
            "26   {'coef0': 10, 'degree': 7, 'gamma': 1e-05}             0.828571\n"
          ]
        }
      ]
    },
    {
      "cell_type": "markdown",
      "metadata": {
        "id": "POCWd_OTCC7R"
      },
      "source": [
        "**RBF kernel**"
      ]
    },
    {
      "cell_type": "code",
      "metadata": {
        "colab": {
          "base_uri": "https://localhost:8080/"
        },
        "id": "gAdotICH53Uw",
        "outputId": "cc95a9bf-4771-4075-9ee1-629acc4c968a"
      },
      "source": [
        "model = GridSearchCV(SVC(C=1000, kernel='rbf', tol=1e-6), rbf_parameters, scoring='accuracy', cv=5)\n",
        "model.fit(x_train, y_train)\n",
        "print(\"Best parameters set found on development set:\")\n",
        "print()\n",
        "print(model.best_params_)\n",
        "print()\n",
        "print('Confusion matrix')\n",
        "y_pred = model.predict(x_test)\n",
        "print(confusion_matrix(y_test, y_pred))\n",
        "print(classification_report(y_test, y_pred))\n",
        "print()\n",
        "print(pd.DataFrame({'parameters': model.cv_results_['params'], 'average performance': model.cv_results_['mean_test_score']}))\n"
      ],
      "execution_count": null,
      "outputs": [
        {
          "output_type": "stream",
          "name": "stdout",
          "text": [
            "Best parameters set found on development set:\n",
            "\n",
            "{'gamma': 0.001}\n",
            "\n",
            "Confusion matrix\n",
            "[[25 13]\n",
            " [ 3 65]]\n",
            "              precision    recall  f1-score   support\n",
            "\n",
            "           b       0.89      0.66      0.76        38\n",
            "           g       0.83      0.96      0.89        68\n",
            "\n",
            "    accuracy                           0.85       106\n",
            "   macro avg       0.86      0.81      0.82       106\n",
            "weighted avg       0.85      0.85      0.84       106\n",
            "\n",
            "\n",
            "          parameters  average performance\n",
            "0   {'gamma': 0.001}             0.918367\n",
            "1  {'gamma': 0.0001}             0.869388\n",
            "2   {'gamma': 1e-05}             0.877551\n"
          ]
        }
      ]
    },
    {
      "cell_type": "markdown",
      "metadata": {
        "id": "iYmJvjkI4BWg"
      },
      "source": [
        "**Results**"
      ]
    },
    {
      "cell_type": "markdown",
      "metadata": {
        "id": "xCsqcaBZkUJk"
      },
      "source": [
        "| ionosphere        | Sensitivity(Recall) | Precision | Accuracy |\n",
        "|-------------------|:-------------------:|:---------:|:--------:|\n",
        "| linear kernel     | 0.97                | 0.79      | 0.81     |\n",
        "| polynomial kernel | 0.94                | 0.78      | 0.79     |\n",
        "| RBF kernel        | 0.96                | 0.83      | 0.85     |"
      ]
    },
    {
      "cell_type": "markdown",
      "metadata": {
        "id": "Fgz9r4VMtJoC"
      },
      "source": [
        "**Transform data format and shape - seeds**<br>\n",
        "Use Principal Component Analysis to reduce feature to 2 dimension"
      ]
    },
    {
      "cell_type": "code",
      "metadata": {
        "id": "afBTqDIZzJ5H"
      },
      "source": [
        "from sklearn.decomposition import PCA\n",
        "from sklearn.metrics import confusion_matrix, classification_report\n",
        "\n",
        "x = PCA(n_components=2).fit_transform(seeds[:,0:-1].astype('float64'))\n",
        "y = seeds[:,-1].astype('int')"
      ],
      "execution_count": null,
      "outputs": []
    },
    {
      "cell_type": "markdown",
      "metadata": {
        "id": "olt_BDQ7AVzx"
      },
      "source": [
        "**K-means Clustering**"
      ]
    },
    {
      "cell_type": "code",
      "metadata": {
        "id": "cJOrBKiEeiZQ"
      },
      "source": [
        "class KMeans:\n",
        "  def __init__(self, n_cluster):\n",
        "    self.n_cluster = n_cluster\n",
        "  \n",
        "  def fit(self, X):\n",
        "    centers = self._init_centroids(X).astype('float64')\n",
        "\n",
        "    # stopping criterion\n",
        "    criterion = 0\n",
        "    while criterion < 100:\n",
        "      clusters = np.empty(X.shape[0])\n",
        "      for i in range(X.shape[0]):\n",
        "        distances = np.empty(self.n_cluster)\n",
        "        for j in range(self.n_cluster):\n",
        "          distances[j] = self._distance_function(X[i], centers[j])\n",
        "        # assign cluster to the closest center\n",
        "        clusters[i] = np.argmin(distances)\n",
        "      \n",
        "      # update centers\n",
        "      for i in range(self.n_cluster):\n",
        "        centers[i] = np.mean(X[np.where(clusters==i)], axis=0)\n",
        "      criterion += 1\n",
        "    \n",
        "    self.centers = centers\n",
        "  \n",
        "  def _init_centroids(self, X):\n",
        "    _X = np.copy(X)\n",
        "    np.random.shuffle(_X)\n",
        "    return _X[0:self.n_cluster]\n",
        "\n",
        "  def _distance_function(self, a, b):\n",
        "    return np.linalg.norm(a - b)\n",
        "\n",
        "  # return the index of cluster\n",
        "  def predict(self, Y):\n",
        "    clusters = np.empty(Y.shape[0])\n",
        "    for i in range(Y.shape[0]):\n",
        "      distances = np.empty(self.n_cluster)\n",
        "      for j in range(self.n_cluster):\n",
        "        distances[j] = self._distance_function(Y[i], self.centers[j])\n",
        "      # assign cluster to the closest center\n",
        "      clusters[i] = np.argmin(distances)\n",
        "    \n",
        "    return clusters\n",
        "\n",
        "  def centers(self):\n",
        "    return self.centers"
      ],
      "execution_count": null,
      "outputs": []
    },
    {
      "cell_type": "code",
      "metadata": {
        "colab": {
          "base_uri": "https://localhost:8080/"
        },
        "id": "6QvbvSVgxNic",
        "outputId": "4adcacc9-5a29-4855-cd39-80e02993d8a1"
      },
      "source": [
        "model = KMeans(n_cluster=3)\n",
        "model.fit(x)\n",
        "pred = model.predict(x) + 1\n",
        "print('Confusion matrix')\n",
        "print(confusion_matrix(y, pred))\n",
        "print(classification_report(y, pred))"
      ],
      "execution_count": null,
      "outputs": [
        {
          "output_type": "stream",
          "name": "stdout",
          "text": [
            "Confusion matrix\n",
            "[[60  1  9]\n",
            " [10 60  0]\n",
            " [ 2  0 68]]\n",
            "              precision    recall  f1-score   support\n",
            "\n",
            "           1       0.83      0.86      0.85        70\n",
            "           2       0.98      0.86      0.92        70\n",
            "           3       0.88      0.97      0.93        70\n",
            "\n",
            "    accuracy                           0.90       210\n",
            "   macro avg       0.90      0.90      0.90       210\n",
            "weighted avg       0.90      0.90      0.90       210\n",
            "\n"
          ]
        }
      ]
    },
    {
      "cell_type": "markdown",
      "metadata": {
        "id": "44VPMERFAZZy"
      },
      "source": [
        "**Question - Choose two features to execute your K-means function and draw a scatter plot with the computed centers and the predicted label for each instance**"
      ]
    },
    {
      "cell_type": "code",
      "metadata": {
        "colab": {
          "base_uri": "https://localhost:8080/",
          "height": 606
        },
        "id": "vEM4W6kq7BPG",
        "outputId": "8f70c376-0779-49be-c1fe-d33abdf2aa3f"
      },
      "source": [
        "import matplotlib.pyplot as plt\n",
        "\n",
        "plt.figure(figsize = (10,10))\n",
        "\n",
        "targets = [3, 2, 1]\n",
        "colors = ['r', 'g', 'b']\n",
        "\n",
        "for target, color in zip(targets,colors):\n",
        "  plt.scatter(model.centers[target-1,1], model.centers[target-1,0], s=100, label=str(target) + ' center', c=color)\n",
        "\n",
        "for target, color in zip(targets,colors):\n",
        "  index = np.where(pred==target)\n",
        "  plt.scatter(x[index,1], x[index,0], s=10, label=target, c=color)\n",
        "\n",
        "plt.xlabel('Principal Component 1')\n",
        "plt.ylabel('Principal Component 2')\n",
        "plt.legend()\n",
        "plt.grid()\n",
        "plt.show()"
      ],
      "execution_count": null,
      "outputs": [
        {
          "output_type": "display_data",
          "data": {
            "image/png": "[encoded data removed]",
            "text/plain": [
              "<Figure size 720x720 with 1 Axes>"
            ]
          },
          "metadata": {
            "needs_background": "light"
          }
        }
      ]
    }
  ]
}